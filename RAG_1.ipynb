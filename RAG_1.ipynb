{
 "cells": [
  {
   "cell_type": "code",
   "execution_count": null,
   "metadata": {},
   "outputs": [],
   "source": [
    "from langchain.document_loaders import PyPDFLoader\n",
    "loader = PyPDFLoader(\"qa_datasets.pdf\")\n",
    "pages = loader.load_and_split()"
   ]
  },
  {
   "cell_type": "code",
   "execution_count": null,
   "metadata": {},
   "outputs": [],
   "source": [
    "from langchain.text_splitter import RecursiveCharacterTextSplitter\n",
    "text_splitter = RecursiveCharacterTextSplitter(\n",
    "    chunk_size = 500,\n",
    "    chunk_overlap = 50,\n",
    ")\n",
    "docs = text_splitter.split_documents(pages)"
   ]
  },
  {
   "cell_type": "code",
   "execution_count": null,
   "metadata": {},
   "outputs": [
    {
     "name": "stderr",
     "output_type": "stream",
     "text": [
      "c:\\anaconda\\envs\\transformers\\lib\\site-packages\\tqdm\\auto.py:21: TqdmWarning: IProgress not found. Please update jupyter and ipywidgets. See https://ipywidgets.readthedocs.io/en/stable/user_install.html\n",
      "  from .autonotebook import tqdm as notebook_tqdm\n",
      "c:\\anaconda\\envs\\transformers\\lib\\site-packages\\huggingface_hub\\file_download.py:797: FutureWarning: `resume_download` is deprecated and will be removed in version 1.0.0. Downloads always resume when possible. If you want to force a new download, use `force_download=True`.\n",
      "  warnings.warn(\n"
     ]
    }
   ],
   "source": [
    "from langchain.embeddings import HuggingFaceEmbeddings\n",
    "from langchain.vectorstores import Chroma\n",
    "model_name = \"sentence-transformers/sentence-t5-large\"\n",
    "embedding = HuggingFaceEmbeddings(model_name=model_name)\n",
    "vectorstore_hf = Chroma.from_documents(documents=docs, embedding=embedding , collection_name=\"huggingface_embed\")"
   ]
  },
  {
   "cell_type": "code",
   "execution_count": null,
   "metadata": {},
   "outputs": [
    {
     "data": {
      "text/plain": [
       "[Document(page_content=\"Q: What is (vertigo) paroymsal  positional vertigo?\\nA: Benign paroxysmal positional vertigo (BPPV) is one of the most common causes of vertigo\\nÃ¢Â€?the sudden sensation that you're spinning or that the inside of your head is spinning. Benign\\nparoxysmal positional vertigo causes brief episodes of mild to intense dizziness.\\nQ: What are the symptoms of (vertigo) paroymsal  positional vertigo?\\nA: [' nausea', ' loss_of_balance', ' unsteadiness', ' spinning_movements', ' headache', ' vomiting']\", metadata={'page': 0, 'source': 'qa_datasets.pdf'}),\n",
       " Document(page_content=\"Q: Tell me about (vertigo) paroymsal  positional vertigo.\\nA: Benign paroxysmal positional vertigo (BPPV) is one of the most common causes of vertigo\\nÃ¢Â€?the sudden sensation that you're spinning or that the inside of your head is spinning. Benign\\nparoxysmal positional vertigo causes brief episodes of mild to intense dizziness.\\nQ: How can I prevent (vertigo) paroymsal  positional vertigo?\\nA: ['avoid abrupt head movment', 'relax', 'lie down', 'avoid sudden change in body']\", metadata={'page': 0, 'source': 'qa_datasets.pdf'})]"
      ]
     },
     "execution_count": 7,
     "metadata": {},
     "output_type": "execute_result"
    }
   ],
   "source": [
    "query = \"What is (vertigo) paroymsal  positional vertigo?\"\n",
    "from transformers import AutoTokenizer, AutoModel\n",
    "\n",
    "# switch to finetuned—_version when submitting to the portal!!!!!!!!!!!!!!!!!!!!!!!!!!!\n",
    "tokenizer = AutoTokenizer.from_pretrained(\"THUDM/chatglm3-6b\", trust_remote_code=True)\n",
    "model = AutoModel.from_pretrained(\"THUDM/chatglm3-6b\", trust_remote_code=True).half().cuda()\n",
    "model = model.eval()\n",
    "response, history = model.chat(tokenizer,query, history=[])\n",
    "print(response)\n"
   ]
  },
  {
   "cell_type": "code",
   "execution_count": null,
   "metadata": {},
   "outputs": [],
   "source": [
    "result = vectorstore_hf.similarity_search(query ,k = 2)\n",
    "result"
   ]
  },
  {
   "cell_type": "code",
   "execution_count": 11,
   "metadata": {},
   "outputs": [
    {
     "data": {
      "text/plain": [
       "\"What is (vertigo) paroymsal  positional vertigo?\\nPlease answer based on these infromation: Q: What is (vertigo) paroymsal  positional vertigo?\\nA: Benign paroxysmal positional vertigo (BPPV) is one of the most common causes of vertigo\\nÃ¢Â€?the sudden sensation that you're spinning or that the inside of your head is spinning. Benign\\nparoxysmal positional vertigo causes brief episodes of mild to intense dizziness.\\nQ: What are the symptoms of (vertigo) paroymsal  positional vertigo?\\nA: [' nausea', ' loss_of_balance', ' unsteadiness', ' spinning_movements', ' headache', ' vomiting']Q: Tell me about (vertigo) paroymsal  positional vertigo.\\nA: Benign paroxysmal positional vertigo (BPPV) is one of the most common causes of vertigo\\nÃ¢Â€?the sudden sensation that you're spinning or that the inside of your head is spinning. Benign\\nparoxysmal positional vertigo causes brief episodes of mild to intense dizziness.\\nQ: How can I prevent (vertigo) paroymsal  positional vertigo?\\nA: ['avoid abrupt head movment', 'relax', 'lie down', 'avoid sudden change in body']\""
      ]
     },
     "execution_count": 11,
     "metadata": {},
     "output_type": "execute_result"
    }
   ],
   "source": [
    "inputtext='''What is (vertigo) paroymsal  positional vertigo?\n",
    "Please answer based on these infromation: '''+result[0].page_content+result[1].page_content\n",
    "inputtext"
   ]
  },
  {
   "cell_type": "code",
   "execution_count": null,
   "metadata": {},
   "outputs": [],
   "source": [
    "response, history = model.chat(tokenizer,inputtext, history=[])\n",
    "print(response)"
   ]
  }
 ],
 "metadata": {
  "kernelspec": {
   "display_name": "transformers",
   "language": "python",
   "name": "transformers"
  },
  "language_info": {
   "codemirror_mode": {
    "name": "ipython",
    "version": 3
   },
   "file_extension": ".py",
   "mimetype": "text/x-python",
   "name": "python",
   "nbconvert_exporter": "python",
   "pygments_lexer": "ipython3",
   "version": "3.9.19"
  }
 },
 "nbformat": 4,
 "nbformat_minor": 2
}
